{
 "cells": [
  {
   "cell_type": "markdown",
   "id": "011a2ef3",
   "metadata": {},
   "source": [
    "#Assignment 1 - Linear algebra\n",
    "\n",
    "한 학기 동안 배운 것을 Programming하기 위해 가장 기초인 Linear algebra를 직접 구현해보겠습니다."
   ]
  },
  {
   "cell_type": "markdown",
   "id": "ca49ef8c",
   "metadata": {},
   "source": [
    "# Chapter 1, Introduction to vectors"
   ]
  },
  {
   "cell_type": "markdown",
   "id": "d9b371e9",
   "metadata": {},
   "source": [
    "## 1.1 Vectors and Linear Combinations"
   ]
  },
  {
   "cell_type": "markdown",
   "id": "c016fb17",
   "metadata": {},
   "source": [
    "이 챕터에서는 벡터의 덧셈, Scalar와의 곱셈을 통한 Linear Combination에 대해 다룹니다.\n",
    "그에 맞추어 코드를 직접 구현해보겠습니다"
   ]
  },
  {
   "cell_type": "code",
   "execution_count": 56,
   "id": "9c6ca697",
   "metadata": {},
   "outputs": [
    {
     "name": "stdout",
     "output_type": "stream",
     "text": [
      "vector v의 components을 입력해주세요\n",
      "1 3\n",
      "\n",
      "vector w의 components을 입력해주세요\n",
      "2 7\n",
      "\n",
      "vector v : \n",
      "[1.0, 3.0]\n",
      "\n",
      "vector w : \n",
      "[2.0, 7.0]\n",
      "\n",
      "v와 w의 linear combination 식을 입력해주세요(ex : 4v+3w) : 3v+5w\n",
      "[13.0, 44.0]\n"
     ]
    }
   ],
   "source": [
    "def vector_addition(Va, Vb):\n",
    "    if len(Va) != len(Vb):\n",
    "        print(\"Invalid vector addition!\")\n",
    "        # 두 벡터의 components 개수가 같아야 계산이 가능함.\n",
    "    else:\n",
    "        answer = list()\n",
    "        for i in range(len(Va)):\n",
    "            answer.append(Va[i] + Vb[i])\n",
    "        return answer; # 벡터끼리 값을 더해서 반환\n",
    "    \n",
    "def vector_multiplication(Va, c):\n",
    "        answer = list()\n",
    "        for i in range(len(Va)):\n",
    "            answer.append(Va[i] * c)\n",
    "        return answer; # 벡터에 scalar를 곱해서 반환\n",
    "\n",
    "def linear_combination(Va, Vb, equation):\n",
    "    constant_string1 = (equation[0:equation.find(\"v\")])\n",
    "    constant_string2 = (equation[max(equation.find(\"+\"), equation.find(\"-\")):equation.find(\"w\")])\n",
    "    #equation에서 multiply될 값을 문자열로 찾아낸다\n",
    "    \n",
    "    constant1 = 0;\n",
    "    constant2 = 0;\n",
    "    #각각의 constant를 0으로 일단 초기화\n",
    "    \n",
    "    if constant_string1 == '':\n",
    "        constant1 = 1\n",
    "    else :\n",
    "        constant1 = float(constant_string1)\n",
    "        \n",
    "    if constant_string2 == '+':\n",
    "        constant2 = 1\n",
    "    elif constant_string2 == '-':\n",
    "        constant2 = -1\n",
    "    else :\n",
    "        constant2 = float(constant_string2)\n",
    "    #linear combination의 상수를 추출해내는 과정\n",
    "    \n",
    "    return vector_addition(vector_multiplication(Va, constant1), vector_multiplication(Vb, constant2))\n",
    "#계산해서 반환한다\n",
    "    \n",
    "        \n",
    "print(\"vector v의 components을 입력해주세요\")\n",
    "vector_a = list(map(float, input().split()))\n",
    "print()\n",
    "\n",
    "print(\"vector w의 components을 입력해주세요\")\n",
    "vector_b = list(map(float, input().split()))\n",
    "print()\n",
    "\n",
    "      \n",
    "print(\"vector v : \")\n",
    "print(vector_a)\n",
    "print()\n",
    "\n",
    "print(\"vector w : \")\n",
    "print(vector_b)\n",
    "print()\n",
    "\n",
    "input_equation = input(\"v와 w의 linear combination 식을 입력해주세요(ex : 4v+3w) : \")\n",
    "\n",
    "answer = linear_combination(vector_a, vector_b, input_equation)\n",
    "\n",
    "print(answer)"
   ]
  },
  {
   "cell_type": "markdown",
   "id": "990752eb",
   "metadata": {},
   "source": [
    "이는 본인이 짠 프로그램이며, 아래의 Numpy 및 Matploblib을 통해서도 같은 결과를 확인 할 수 있습니다."
   ]
  },
  {
   "cell_type": "code",
   "execution_count": 57,
   "id": "c191d15c",
   "metadata": {},
   "outputs": [
    {
     "name": "stdout",
     "output_type": "stream",
     "text": [
      "첫 번째 벡터를 공백으로 구분하여 입력하세요: 1 3\n",
      "두 번째 벡터를 공백으로 구분하여 입력하세요: 2 7\n",
      "각 벡터에 대한 계수를 공백으로 구분하여 입력하세요: 3 5\n"
     ]
    },
    {
     "data": {
      "image/png": "[encoded data removed]",
      "text/plain": [
       "<Figure size 432x288 with 1 Axes>"
      ]
     },
     "metadata": {
      "needs_background": "light"
     },
     "output_type": "display_data"
    },
    {
     "name": "stdout",
     "output_type": "stream",
     "text": [
      "선형 결합 결과: [13. 44.]\n"
     ]
    }
   ],
   "source": [
    "import numpy as np\n",
    "import matplotlib.pyplot as plt\n",
    "\n",
    "def main():\n",
    "    # 벡터 입력 받기\n",
    "    vector1 = np.array(input(\"첫 번째 벡터를 공백으로 구분하여 입력하세요: \").split(), dtype=float)\n",
    "    vector2 = np.array(input(\"두 번째 벡터를 공백으로 구분하여 입력하세요: \").split(), dtype=float)\n",
    "    \n",
    "    # 선형 결합식 입력 받기\n",
    "    coefficients = np.array(input(\"각 벡터에 대한 계수를 공백으로 구분하여 입력하세요: \").split(), dtype=float)\n",
    "    \n",
    "    # 입력된 계수와 벡터로 선형 결합 계산\n",
    "    result = coefficients[0] * vector1 + coefficients[1] * vector2\n",
    "    \n",
    "    # 원점에서 벡터 그리기\n",
    "    plt.quiver(0, 0, vector1[0], vector1[1], angles='xy', scale_units='xy', scale=1, color='blue', label='Vector 1')\n",
    "    plt.quiver(0, 0, vector2[0], vector2[1], angles='xy', scale_units='xy', scale=1, color='red', label='Vector 2')\n",
    "    plt.quiver(0, 0, result[0], result[1], angles='xy', scale_units='xy', scale=1, color='green', label='Linear Combination')\n",
    "    \n",
    "    plt.xlim(-10, 10)\n",
    "    plt.ylim(-10, 10)\n",
    "    plt.axhline(0, color='black',linewidth=0.5)\n",
    "    plt.axvline(0, color='black',linewidth=0.5)\n",
    "    plt.xlabel('X')\n",
    "    plt.ylabel('Y')\n",
    "    plt.legend()\n",
    "    plt.grid()\n",
    "    plt.show()\n",
    "    \n",
    "    print(\"선형 결합 결과:\", result)\n",
    "\n",
    "if __name__ == \"__main__\":\n",
    "    main()"
   ]
  },
  {
   "cell_type": "markdown",
   "id": "2ad3af6d",
   "metadata": {},
   "source": [
    " "
   ]
  },
  {
   "cell_type": "markdown",
   "id": "cc6f9d13",
   "metadata": {},
   "source": [
    "## 1.2 Length and Dot Products"
   ]
  },
  {
   "cell_type": "markdown",
   "id": "267a7452",
   "metadata": {},
   "source": [
    "이 장에서는 벡터의 내적, 그를 통한 Length, 단위 벡터에 대해 다룹니다.\n",
    "또한 내적의 정의에서 유도된 벡터 사이의 코사인 값, 각도를 구하는 프로그램에 대해서도 구현해 보겠습니다."
   ]
  },
  {
   "cell_type": "code",
   "execution_count": 58,
   "id": "6c0f7c1c",
   "metadata": {},
   "outputs": [
    {
     "name": "stdout",
     "output_type": "stream",
     "text": [
      "vector v의 components을 입력해주세요\n",
      "4 2\n",
      "vector w의 components을 입력해주세요\n",
      "-1 2\n",
      "vector v : \n",
      "[4.0, 2.0]\n",
      "\n",
      "vector w : \n",
      "[-1.0, 2.0]\n",
      "\n",
      "v와 w의 내적값:\n",
      "0.0\n",
      "\n",
      "vector v의 unit vector:\n",
      "[0.8944271909999159, 0.4472135954999579]\n",
      "\n",
      "vector w의 unit vector:\n",
      "[-0.4472135954999579, 0.8944271909999159]\n",
      "\n",
      "vector v와 w의 사이각(단위 : º)\n",
      "90.0\n"
     ]
    }
   ],
   "source": [
    "import math\n",
    "import numpy as np\n",
    "\n",
    "def dot_product(Va, Vb):\n",
    "    answer = 0\n",
    "    \n",
    "    if len(Va) != len(Vb):\n",
    "        print(\"Invalid dot product!\")\n",
    "        # 두 벡터의 components 개수가 같아야 계산이 가능함.\n",
    "    else:\n",
    "        answer = 0\n",
    "        for i in range(len(Va)):\n",
    "            answer += Va[i] * Vb[i]\n",
    "    return answer #벡터의 덧셈 과정과 거의 같습니다. 다만 각각의 덧셈이 아닌 곱셈, 벡터가 아닌 스칼라를 반환한다는 점이 다릅니다.\n",
    "\n",
    "def vector_length(Va):\n",
    "    return math.sqrt(dot_product(Va, Va))\n",
    "#정의대로 자기 자신을 내적후 제곱근을 취합니다\n",
    "\n",
    "def unit_vector(Va):\n",
    "    len_Va= vector_length(Va)\n",
    "    answer = list()\n",
    "    \n",
    "    for i in range(len(Va)):\n",
    "        answer.append(Va[i]/len_Va)\n",
    "    \n",
    "    return answer\n",
    "#역시 정의에 따라 각 원소를 length에 나누어 반환합니다.\n",
    "\n",
    "def inner_angle(Va, Vb):\n",
    "    cos_angle = dot_product(Va, Vb)/(vector_length(Va) * vector_length(Vb))\n",
    "    #코사인 값을 정의대로 계산합니다.\n",
    "    \n",
    "    return np.degrees(math.acos(cos_angle))#역함수를 취해 사이각 값을 반환합니다(단위 : º)\n",
    "\n",
    "print(\"vector v의 components을 입력해주세요\")\n",
    "vector_a = list(map(float, input().split()))\n",
    "\n",
    "print(\"vector w의 components을 입력해주세요\")\n",
    "vector_b = list(map(float, input().split()))\n",
    "\n",
    "      \n",
    "print(\"vector v : \")\n",
    "print(vector_a)\n",
    "print()\n",
    "print(\"vector w : \")\n",
    "print(vector_b)\n",
    "print()\n",
    "\n",
    "print(\"v와 w의 내적값:\")\n",
    "print(dot_product(vector_a, vector_b))\n",
    "print()\n",
    "\n",
    "print(\"vector v의 unit vector:\")\n",
    "print(unit_vector(vector_a))\n",
    "print()\n",
    "\n",
    "print(\"vector w의 unit vector:\")\n",
    "print(unit_vector(vector_b))\n",
    "print()\n",
    "\n",
    "print(\"vector v와 w의 사이각(단위 : º)\")\n",
    "print(inner_angle(vector_a, vector_b))"
   ]
  },
  {
   "cell_type": "markdown",
   "id": "4b43af16",
   "metadata": {},
   "source": [
    "## 1.3 Matrices"
   ]
  },
  {
   "cell_type": "markdown",
   "id": "c4f2e869",
   "metadata": {},
   "source": [
    "이번 chapter에서는 Matrix와 vector의 곱에 대해 다룬다."
   ]
  },
  {
   "cell_type": "code",
   "execution_count": 59,
   "id": "e5c2603d",
   "metadata": {},
   "outputs": [
    {
     "name": "stdout",
     "output_type": "stream",
     "text": [
      "Matrix A 행 수를 입력하세요: 3\n",
      "Matrix A 열 수를 입력하세요: 3\n",
      "행 1을 공백으로 구분하여 입력하세요: 1 0 0\n",
      "행 2을 공백으로 구분하여 입력하세요: 1 1 0\n",
      "행 3을 공백으로 구분하여 입력하세요: 1 1 1\n",
      "\n",
      "vector v의 components을 입력해주세요\n",
      "1 1 1\n",
      "\n",
      "Matrix A : \n",
      "1.0\t0.0\t0.0\t\n",
      "1.0\t1.0\t0.0\t\n",
      "1.0\t1.0\t1.0\t\n",
      "\n",
      "vector v : \n",
      "[1.0, 1.0, 1.0]\n",
      "\n",
      "Av\n",
      "[1.0, 2.0, 3.0]\n"
     ]
    }
   ],
   "source": [
    "import sys\n",
    "\n",
    "def dot_product(Va, Vb):\n",
    "    answer = 0\n",
    "    \n",
    "    if len(Va) != len(Vb):\n",
    "        print(\"Invalid dot product!\")\n",
    "    else:\n",
    "        answer = 0\n",
    "        for i in range(len(Va)):\n",
    "            answer += Va[i] * Vb[i]\n",
    "        return answer\n",
    "\n",
    "def matrix_vector_multiplication(Ma, Va):\n",
    "    if len(Ma) != len(Va):\n",
    "        print(\"Invalid multiplication\")\n",
    "        #만약 Matrix의 열과 vector의 행의 값이 다르다면 Invalid하다고 출력한다.\n",
    "    \n",
    "    else:   \n",
    "        answer = list()\n",
    "        for i in range(len(Ma)):\n",
    "            row_of_answer = dot_product(Ma[i], Va)\n",
    "            answer.append(row_of_answer)\n",
    "        return answer\n",
    "## 책에 나와 있는 방법대로 구현한다.\n",
    "    \n",
    "def print_matrix(matrix):\n",
    "    rows = len(matrix)\n",
    "    cols = len(matrix[0])\n",
    "    \n",
    "    for i in range(rows):\n",
    "        for j in range(cols):\n",
    "            print(matrix[i][j], end =\"\\t\")\n",
    "        print()\n",
    "## matrix를 출력하기 위한 함수를 만든다\n",
    "    \n",
    "matrix = list()\n",
    "\n",
    "rows = int(input(\"Matrix A 행 수를 입력하세요: \"))\n",
    "cols = int(input(\"Matrix A 열 수를 입력하세요: \"))\n",
    "\n",
    "for i in range(rows):\n",
    "        row = input(f\"행 {i+1}을 공백으로 구분하여 입력하세요: \").split()\n",
    "        if len(row) != cols:\n",
    "            print(\"열 수와 입력된 값의 개수가 일치하지 않습니다.\")\n",
    "            sys.exit(1)\n",
    "        else:\n",
    "            matrix.append([float(val) for val in row])\n",
    "print()\n",
    "\n",
    "print(\"vector v의 components을 입력해주세요\")\n",
    "vector_a = list(map(float, input().split()))\n",
    "print()\n",
    "\n",
    "print(\"Matrix A : \")\n",
    "print_matrix(matrix)\n",
    "print()\n",
    "\n",
    "print(\"vector v : \")\n",
    "print(vector_a)\n",
    "print()\n",
    "\n",
    "print(\"Av\")\n",
    "print(matrix_vector_multiplication(matrix, vector_a))"
   ]
  },
  {
   "cell_type": "markdown",
   "id": "e035f630",
   "metadata": {},
   "source": [
    " "
   ]
  },
  {
   "cell_type": "code",
   "execution_count": null,
   "id": "9c38c837",
   "metadata": {},
   "outputs": [],
   "source": []
  }
 ],
 "metadata": {
  "kernelspec": {
   "display_name": "Python 3 (ipykernel)",
   "language": "python",
   "name": "python3"
  },
  "language_info": {
   "codemirror_mode": {
    "name": "ipython",
    "version": 3
   },
   "file_extension": ".py",
   "mimetype": "text/x-python",
   "name": "python",
   "nbconvert_exporter": "python",
   "pygments_lexer": "ipython3",
   "version": "3.9.12"
  }
 },
 "nbformat": 4,
 "nbformat_minor": 5
}
