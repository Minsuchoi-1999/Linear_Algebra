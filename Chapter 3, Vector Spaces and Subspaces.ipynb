{
 "cells": [
  {
   "cell_type": "markdown",
   "id": "e47cc9ee",
   "metadata": {},
   "source": [
    "# Chapter3, Vector Spaces and Subspaces"
   ]
  },
  {
   "cell_type": "markdown",
   "id": "7d751cfc",
   "metadata": {},
   "source": [
    "## 3.1 Spaces of Vectors"
   ]
  },
  {
   "cell_type": "markdown",
   "id": "5186e2cf",
   "metadata": {},
   "source": [
    "이 Chapter는 Vector Space와 Subspace의 정의에 대해 다루기에 구현할 부분이 마땅치 않아 Skip했습니다."
   ]
  },
  {
   "cell_type": "markdown",
   "id": "634913d2",
   "metadata": {},
   "source": [
    "## 3.2 The NullSpace of A : Ax = 0"
   ]
  },
  {
   "cell_type": "markdown",
   "id": "aabd3884",
   "metadata": {},
   "source": [
    "이 Chapter에서는 Nullspace의 정의와 이를 구하는 방법에 대해 나옵니다.\n",
    "Nullspace를 구하는 알고리즘을 구현해보겠습니다.\n",
    "전체적으로는 Elimination 과정과 비슷하며 앞에서 이용했던 Elimination1을 조금 수정했습니다."
   ]
  },
  {
   "cell_type": "code",
   "execution_count": 2,
   "id": "4fd8d326",
   "metadata": {},
   "outputs": [
    {
     "name": "stdout",
     "output_type": "stream",
     "text": [
      "Matrix A 행 수를 입력하세요: 3\n",
      "Matrix A 열 수를 입력하세요: 4\n",
      "행 1을 공백으로 구분하여 입력하세요: 1 1 2 3\n",
      "행 2을 공백으로 구분하여 입력하세요: 2 2 8 10\n",
      "행 3을 공백으로 구분하여 입력하세요: 3 3 10 13\n",
      "\n",
      "0 0 1.0\n",
      "1 1 0.0\n",
      "1 2 4.0\n",
      "2 3 0.0\n",
      "1.0\t1.0\t2.0\t3.0\t\n",
      "0.0\t0.0\t4.0\t4.0\t\n",
      "0.0\t0.0\t0.0\t0.0\t\n"
     ]
    }
   ],
   "source": [
    "import sys\n",
    "\n",
    "def Find_nullspace(matrix):\n",
    "    col_of_pivot = 0\n",
    "    i = 0\n",
    "    \n",
    "    while i < len(matrix) and col_of_pivot < len(matrix[0]):\n",
    "        pivot = matrix[i][col_of_pivot]\n",
    "        print(f\"{i} {col_of_pivot} {pivot}\")\n",
    "        \n",
    "        if pivot == 0:\n",
    "            col_of_pivot += 1\n",
    "        else:\n",
    "            for j in range(i + 1, len(matrix)):\n",
    "                multiplier = matrix[j][col_of_pivot] / pivot\n",
    "                for k in range(col_of_pivot, len(matrix[0])):\n",
    "                    matrix[j][k] -= (matrix[i][k] * multiplier)\n",
    "            i += 1  # 다음 행으로 이동\n",
    "            col_of_pivot += 1\n",
    "    \n",
    "    return matrix\n",
    "    #성공적으로 Elimination을 했다면 True를 반환해 Elimination된 Matrix를 출력한다\n",
    "    \n",
    "def print_matrix(matrix):\n",
    "    rows = len(matrix)\n",
    "    cols = len(matrix[0])\n",
    "    \n",
    "    for i in range(rows):\n",
    "        for j in range(cols):\n",
    "            print(matrix[i][j], end =\"\\t\")\n",
    "        print()\n",
    "    \n",
    "matrix = list()\n",
    "\n",
    "rows = int(input(\"Matrix A 행 수를 입력하세요: \"))\n",
    "cols = int(input(\"Matrix A 열 수를 입력하세요: \"))\n",
    "\n",
    "for i in range(rows):\n",
    "        row = input(f\"행 {i+1}을 공백으로 구분하여 입력하세요: \").split()\n",
    "        if len(row) != cols:\n",
    "            print(\"열 수와 입력된 값의 개수가 일치하지 않습니다.\")\n",
    "            sys.exit(1)\n",
    "        else:\n",
    "            matrix.append([float(val) for val in row])\n",
    "print()\n",
    "\n",
    "Find_nullspace(matrix)\n",
    "print_matrix(matrix)\n",
    "\n",
    "\n"
   ]
  },
  {
   "cell_type": "code",
   "execution_count": null,
   "id": "481e3b6e",
   "metadata": {},
   "outputs": [],
   "source": [
    "\n"
   ]
  },
  {
   "cell_type": "code",
   "execution_count": null,
   "id": "85438e39",
   "metadata": {},
   "outputs": [],
   "source": []
  }
 ],
 "metadata": {
  "kernelspec": {
   "display_name": "Python 3 (ipykernel)",
   "language": "python",
   "name": "python3"
  },
  "language_info": {
   "codemirror_mode": {
    "name": "ipython",
    "version": 3
   },
   "file_extension": ".py",
   "mimetype": "text/x-python",
   "name": "python",
   "nbconvert_exporter": "python",
   "pygments_lexer": "ipython3",
   "version": "3.9.12"
  }
 },
 "nbformat": 4,
 "nbformat_minor": 5
}
