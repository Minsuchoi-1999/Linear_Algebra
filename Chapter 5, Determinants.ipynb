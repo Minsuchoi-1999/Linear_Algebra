{
 "cells": [
  {
   "cell_type": "markdown",
   "id": "75f70860",
   "metadata": {},
   "source": [
    "# Chapter 5, Determinants"
   ]
  },
  {
   "cell_type": "markdown",
   "id": "5c57b3a8",
   "metadata": {},
   "source": [
    "## 5.1 The Properties of Determinants & 5.2 Permutations and Cofactors"
   ]
  },
  {
   "cell_type": "markdown",
   "id": "043736a7",
   "metadata": {},
   "source": [
    "이 chapter에서는 Determinant의 성질에 대해 다룹니다. \n",
    "\n",
    "그런데 여기서 성질들을 직접 다루기보다는 일반화된 Determinant 공식에 대해서 구현해보겠습니다.\n",
    "\n",
    "방법으로는 재귀적으로 구현 방법을 이용했습니다."
   ]
  },
  {
   "cell_type": "code",
   "execution_count": 3,
   "id": "d4ae62bb",
   "metadata": {},
   "outputs": [
    {
     "name": "stdout",
     "output_type": "stream",
     "text": [
      "Matrix A 행 수를 입력하세요: 4\n",
      "Matrix A 열 수를 입력하세요: 4\n",
      "행 1을 공백으로 구분하여 입력하세요: 1 1 1 1\n",
      "행 2을 공백으로 구분하여 입력하세요: 1 2 3 4\n",
      "행 3을 공백으로 구분하여 입력하세요: 1 3 6 10\n",
      "행 4을 공백으로 구분하여 입력하세요: 1 4 10 20\n",
      "\n",
      "det A : \n",
      "1.0\n"
     ]
    }
   ],
   "source": [
    "def submatrix(matrix, row, col):\n",
    "    # matrix에서 지정된 행과 열을 제외한 submatrix 구현\n",
    "    return [row[:col] + row[col + 1:] for row in (matrix[:row] + matrix[row + 1:])]\n",
    "\n",
    "def determinant(matrix):\n",
    "    size = len(matrix)\n",
    "    \n",
    "    if size == 1:\n",
    "        return matrix[0][0]  # 1x1 행렬의 determinant는 해당 원소 그 자체\n",
    "    \n",
    "    if size == 2:\n",
    "        return matrix[0][0] * matrix[1][1] - matrix[0][1] * matrix[1][0]  # 2x2 행렬의 determinant 공식\n",
    "    \n",
    "    det = 0\n",
    "    for col in range(size):\n",
    "        cofactor = (-1) ** col * matrix[0][col] * determinant(submatrix(matrix, 0, col))\n",
    "        det += cofactor\n",
    "        \n",
    "    return det\n",
    "\n",
    "matrix = list()\n",
    "\n",
    "rows = int(input(\"Matrix A 행 수를 입력하세요: \"))\n",
    "cols = int(input(\"Matrix A 열 수를 입력하세요: \"))\n",
    "\n",
    "for i in range(rows):\n",
    "        row = input(f\"행 {i+1}을 공백으로 구분하여 입력하세요: \").split()\n",
    "        if len(row) != cols:\n",
    "            print(\"열 수와 입력된 값의 개수가 일치하지 않습니다.\")\n",
    "            sys.exit(1)\n",
    "        else:\n",
    "            matrix.append([float(val) for val in row])\n",
    "print()\n",
    "\n",
    "print(\"det A : \")\n",
    "print(determinant(matrix))"
   ]
  },
  {
   "cell_type": "markdown",
   "id": "47760d6a",
   "metadata": {},
   "source": [
    "## 5.3 Crammer's Rule, Inverse, and Volumes"
   ]
  },
  {
   "cell_type": "markdown",
   "id": "cbb4c0a8",
   "metadata": {},
   "source": [
    "이 Chapter에서는 Crammer's Rule을 이용해 Augmented matrix의 해를 구하는 방법, Inverse의 det성질, 세 좌표가 주어졌을때 삼각형의 넓이, 세 벡터가 주어졌을 때 box의 부피를 구하는 방법에 대해 다루고 있습니다.\n",
    "\n",
    "여기서 넓이, 부피 part는 단순 determinant/2, determinant를 구하는 것이기에 skip하겠습니다.\n",
    "\n",
    "Crammer's Rule를 우선 구현해보고, Inverse matrix의 det는 1/det(matrix)라는 대수적 성질이 맞는지 확인해보겠습니다,"
   ]
  },
  {
   "cell_type": "code",
   "execution_count": 9,
   "id": "e22d2f21",
   "metadata": {},
   "outputs": [
    {
     "name": "stdout",
     "output_type": "stream",
     "text": [
      "Augmented Matrix A 행 수를 입력하세요: 2\n",
      "Augmented Matrix A 열 수를 입력하세요: 3\n",
      "행 1을 공백으로 구분하여 입력하세요: 3 4 2\n",
      "행 2을 공백으로 구분하여 입력하세요: 5 6 4\n",
      "\n",
      "Solution : \n",
      "[2.0, -1.0]\n"
     ]
    }
   ],
   "source": [
    "import sys\n",
    "\n",
    "def submatrix(matrix, row, col):\n",
    "    return [row[:col] + row[col + 1:] for row in (matrix[:row] + matrix[row + 1:])]\n",
    "\n",
    "def determinant(matrix):\n",
    "    size = len(matrix)\n",
    "    \n",
    "    if size == 1:\n",
    "        return matrix[0][0]\n",
    "    \n",
    "    if size == 2:\n",
    "        return matrix[0][0] * matrix[1][1] - matrix[0][1] * matrix[1][0]\n",
    "    \n",
    "    det = 0\n",
    "    for col in range(size):\n",
    "        cofactor = (-1) ** col * matrix[0][col] * determinant(submatrix(matrix, 0, col))\n",
    "        det += cofactor\n",
    "        \n",
    "    return det\n",
    "\n",
    "def cramers_rule(augmented_matrix):\n",
    "    size = len(augmented_matrix)\n",
    "    matrix = [row[:-1] for row in augmented_matrix]\n",
    "    constants = [row[-1] for row in augmented_matrix]\n",
    "    \n",
    "    det_A = determinant(matrix)\n",
    "    \n",
    "    if det_A == 0:\n",
    "        return \"No unique solution, determinant of A is 0.\"\n",
    "    \n",
    "    solutions = []\n",
    "    \n",
    "    for col in range(size):\n",
    "        submat = [row[:col] + [constants[i]] + row[col + 1:] for i, row in enumerate(matrix)]\n",
    "        det_submat = determinant(submat)\n",
    "        solutions.append(det_submat / det_A)\n",
    "    \n",
    "    return solutions\n",
    "\n",
    "matrix = []\n",
    "\n",
    "rows = int(input(\"Augmented Matrix A 행 수를 입력하세요: \"))\n",
    "cols = int(input(\"Augmented Matrix A 열 수를 입력하세요: \"))\n",
    "\n",
    "for i in range(rows):\n",
    "    row = input(f\"행 {i+1}을 공백으로 구분하여 입력하세요: \").split()\n",
    "    if len(row) != cols:\n",
    "        print(\"열 수와 입력된 값의 개수가 일치하지 않습니다.\")\n",
    "        sys.exit(1)\n",
    "    else:\n",
    "        matrix.append([float(val) for val in row])\n",
    "\n",
    "solutions = cramers_rule(matrix)\n",
    "print()\n",
    "\n",
    "print(\"Solution : \")\n",
    "print(solutions)"
   ]
  },
  {
   "cell_type": "markdown",
   "id": "a30c9282",
   "metadata": {},
   "source": [
    "마지막으로 Inverse matrix와 original Matrix의 det가 역수 관계인 것을 확인해보겠습니다."
   ]
  },
  {
   "cell_type": "code",
   "execution_count": 13,
   "id": "e83f7169",
   "metadata": {},
   "outputs": [
    {
     "name": "stdout",
     "output_type": "stream",
     "text": [
      "Matrix A 행 수를 입력하세요: 2\n",
      "Matrix A 열 수를 입력하세요: 2\n",
      "행 1을 공백으로 구분하여 입력하세요: 1 -1\n",
      "행 2을 공백으로 구분하여 입력하세요: 1 1\n",
      "\n",
      "det A : \n",
      "2.0\n",
      "\n",
      "det of Inverse of A : \n",
      "0.5\n"
     ]
    }
   ],
   "source": [
    "def submatrix(matrix, row, col):\n",
    "    # matrix에서 지정된 행과 열을 제외한 submatrix 구현\n",
    "    return [row[:col] + row[col + 1:] for row in (matrix[:row] + matrix[row + 1:])]\n",
    "\n",
    "def determinant(matrix):\n",
    "    size = len(matrix)\n",
    "    \n",
    "    if size == 1:\n",
    "        return matrix[0][0]  # 1x1 행렬의 determinant는 해당 원소 그 자체\n",
    "    \n",
    "    if size == 2:\n",
    "        return matrix[0][0] * matrix[1][1] - matrix[0][1] * matrix[1][0]  # 2x2 행렬의 determinant 공식\n",
    "    \n",
    "    det = 0\n",
    "    for col in range(size):\n",
    "        cofactor = (-1) ** col * matrix[0][col] * determinant(submatrix(matrix, 0, col))\n",
    "        det += cofactor\n",
    "        \n",
    "    return det\n",
    "\n",
    "\n",
    "def Gauss_Jordan(matrix, matrix2):\n",
    "    for i in range(len(matrix)):\n",
    "        pivot = matrix[i][i] ## pivot을 구한다.\n",
    "        \n",
    "        if pivot == 0:\n",
    "            print(f\"{i+1}행 {i+1}열의 pivot이 0입니다!\")\n",
    "            return None\n",
    "            #pivot이 0이면 False를 반환해 Failure을 출력한다.\n",
    "        else:\n",
    "            for j in range(i+1, len(matrix)):\n",
    "                multiplier = matrix[j][i]/pivot\n",
    "                \n",
    "                #각 행의 pivot에 대한 multiplier를 구한다\n",
    "                \n",
    "                for k in range(0, len(matrix[0])):\n",
    "                    matrix[j][k] -= (matrix[i][k] * multiplier)\n",
    "                    matrix2[j][k] -= (matrix2[i][k] * multiplier)\n",
    "                    #multiplier를 이용해서 matrix, matrix2의 각 행을 Elimination해준다.\n",
    "                    \n",
    "    #여기서 끝나지 않고 아래에서 위로 한번더 빼준다.\n",
    "    for i in range(len(matrix)-1, -1 , -1):\n",
    "        pivot = matrix[i][i] ## pivot을 구한다.\n",
    "        \n",
    "        for j in range(i-1, -1, -1):\n",
    "            multiplier = matrix[j][i]/pivot\n",
    "                \n",
    "            #각 행의 pivot에 대한 multiplier를 구한다\n",
    "                \n",
    "            for k in range(0, len(matrix[0])):\n",
    "                matrix[j][k] -= (matrix[i][k] * multiplier)\n",
    "                matrix2[j][k] -= (matrix2[i][k] * multiplier)\n",
    "                #multiplier를 이용해서 matrix, matrix2의 각 행을 Elimination해준다.   \n",
    "        \n",
    "    #대각성분을 1로 만들어준다.\n",
    "    for i in range(len(matrix)):\n",
    "        pivot = matrix[i][i]\n",
    "        matrix[i][i] /= pivot\n",
    "            \n",
    "        for j in range(len(matrix)):\n",
    "            matrix2[i][j]/= pivot\n",
    "        \n",
    "    return matrix2\n",
    "            #성공적으로 Elimination을 했다면 True를 반환해 Elimination된 Matrix를 출력한다\n",
    "\n",
    "def make_identity(rows, cols): #Gauss-Jordan Elimination을 위해 Identity matrix를 만든다.\n",
    "    Identity = list()\n",
    "    for i in range(rows):\n",
    "        row_Identity = list()\n",
    "        \n",
    "        for j in range(cols):\n",
    "            if(i != j):\n",
    "                row_Identity.append(0)\n",
    "            else:\n",
    "                row_Identity.append(1) # 대각행렬에는 1, 아니면 0을 입력하여 반환한다.\n",
    "        \n",
    "        Identity.append(row_Identity)\n",
    "\n",
    "    return Identity\n",
    "\n",
    "matrix = list()\n",
    "\n",
    "rows = int(input(\"Matrix A 행 수를 입력하세요: \"))\n",
    "cols = int(input(\"Matrix A 열 수를 입력하세요: \"))\n",
    "\n",
    "for i in range(rows):\n",
    "        row = input(f\"행 {i+1}을 공백으로 구분하여 입력하세요: \").split()\n",
    "        if len(row) != cols:\n",
    "            print(\"열 수와 입력된 값의 개수가 일치하지 않습니다.\")\n",
    "            sys.exit(1)\n",
    "        else:\n",
    "            matrix.append([float(val) for val in row])\n",
    "print()\n",
    "\n",
    "print(\"det A : \")\n",
    "print(determinant(matrix))\n",
    "print()\n",
    "\n",
    "I = make_identity(rows, cols)\n",
    "Gauss_Jordan(matrix, I)\n",
    "print(\"det of Inverse of A : \")\n",
    "print(determinant(I))"
   ]
  },
  {
   "cell_type": "markdown",
   "id": "8c90328b",
   "metadata": {},
   "source": [
    "실제로 프로그래밍해서 확인해보아도 역수임을 알 수 있습니다."
   ]
  },
  {
   "cell_type": "code",
   "execution_count": null,
   "id": "42b4d4a5",
   "metadata": {},
   "outputs": [],
   "source": []
  }
 ],
 "metadata": {
  "kernelspec": {
   "display_name": "Python 3 (ipykernel)",
   "language": "python",
   "name": "python3"
  },
  "language_info": {
   "codemirror_mode": {
    "name": "ipython",
    "version": 3
   },
   "file_extension": ".py",
   "mimetype": "text/x-python",
   "name": "python",
   "nbconvert_exporter": "python",
   "pygments_lexer": "ipython3",
   "version": "3.9.12"
  }
 },
 "nbformat": 4,
 "nbformat_minor": 5
}
